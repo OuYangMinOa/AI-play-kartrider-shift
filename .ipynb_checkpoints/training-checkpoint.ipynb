{
 "cells": [
  {
   "cell_type": "code",
   "execution_count": 47,
   "id": "4c1aa0b8",
   "metadata": {},
   "outputs": [],
   "source": [
    "from torch.utils.data import TensorDataset, DataLoader\n",
    "from torchvision.transforms import ToTensor, Compose\n",
    "\n",
    "\n",
    "\n",
    "import torchvision\n",
    "import tarfile\n",
    "import torch\n",
    "import glob\n",
    "import os\n",
    "\n",
    "from numpy import *\n",
    "from matplotlib.pyplot import *\n"
   ]
  },
  {
   "cell_type": "markdown",
   "id": "e601e94e",
   "metadata": {},
   "source": [
    "# read file"
   ]
  },
  {
   "cell_type": "code",
   "execution_count": 48,
   "id": "204bf2eb",
   "metadata": {},
   "outputs": [],
   "source": [
    "data_dir      = 'dataset'\n",
    "batch_size    = 8\n",
    "RECORD_WIDTH  = 240\n",
    "RECORD_HEIGHT = 128\n",
    "dataset_files = glob.glob(data_dir + '/*')"
   ]
  },
  {
   "cell_type": "code",
   "execution_count": 49,
   "id": "919ba81c",
   "metadata": {},
   "outputs": [
    {
     "data": {
      "text/plain": [
       "(2564, 6)"
      ]
     },
     "execution_count": 49,
     "metadata": {},
     "output_type": "execute_result"
    }
   ],
   "source": [
    "testing_dataset = load('dataset\\\\train_data13.npy',allow_pickle=True)\n",
    "len(testing_dataset), len(testing_dataset[0][1])"
   ]
  },
  {
   "cell_type": "code",
   "execution_count": 21,
   "id": "05e1cf1c",
   "metadata": {},
   "outputs": [
    {
     "data": {
      "text/plain": [
       "(270, 480, 3)"
      ]
     },
     "execution_count": 21,
     "metadata": {},
     "output_type": "execute_result"
    }
   ],
   "source": [
    "testing_dataset[0][0].shape"
   ]
  },
  {
   "cell_type": "code",
   "execution_count": 56,
   "id": "5084b7a8",
   "metadata": {},
   "outputs": [],
   "source": [
    "def append_flip_data(arr):\n",
    "    \n",
    "    output_img, output_label= [], []\n",
    "    for img_t, label in arr:\n",
    "        img = img_t.copy()\n",
    "        img.resize((RECORD_HEIGHT,RECORD_WIDTH,3))\n",
    "        output_img.append(  (img.transpose((2,0,1)).astype(float32))/255   )\n",
    "        output_label.append( argmax(label, axis=0))\n",
    "        \n",
    "        if (label[2]==1):\n",
    "            output_img.append( (flip(img).transpose((2,0,1)).astype(float32))/255)\n",
    "            output_label.append(3)\n",
    "            \n",
    "        if (label[3]==1):\n",
    "            output_img.append( (flip(img).transpose((2,0,1)).astype(float32))/255)\n",
    "            output_label.append(2)\n",
    "        \n",
    "    return torch.from_numpy(array(output_img)).to(torch.float32), torch.from_numpy(array(output_label)).to(torch.long)\n"
   ]
  },
  {
   "cell_type": "code",
   "execution_count": 58,
   "id": "6e1f515e",
   "metadata": {
    "scrolled": true
   },
   "outputs": [
    {
     "data": {
      "text/plain": [
       "torch.Size([3, 128, 240])"
      ]
     },
     "execution_count": 58,
     "metadata": {},
     "output_type": "execute_result"
    }
   ],
   "source": [
    "testd_torch_dataset = TensorDataset(*append_flip_data(testing_dataset))\n",
    "testd_torch_dataset[0][0].shape"
   ]
  },
  {
   "cell_type": "code",
   "execution_count": 36,
   "id": "6e5f0a6e",
   "metadata": {},
   "outputs": [
    {
     "name": "stdout",
     "output_type": "stream",
     "text": [
      "{0: 12, 2: 1209, 3: 1209, 1: 1286, 5: 25, 4: 32}\n"
     ]
    }
   ],
   "source": [
    "from collections import Counter\n",
    "print(dict(Counter(  [label.item() for _, label in testd_torch_dataset])  ))"
   ]
  },
  {
   "cell_type": "code",
   "execution_count": 37,
   "id": "e5b72182",
   "metadata": {},
   "outputs": [],
   "source": [
    "my_dataloader = DataLoader(testd_torch_dataset, batch_size,shuffle=True, num_workers=0,pin_memory=True)"
   ]
  },
  {
   "cell_type": "code",
   "execution_count": 38,
   "id": "12e86b60",
   "metadata": {
    "scrolled": true
   },
   "outputs": [
    {
     "name": "stdout",
     "output_type": "stream",
     "text": [
      "472\n"
     ]
    }
   ],
   "source": [
    "print(len(my_dataloader))"
   ]
  },
  {
   "cell_type": "markdown",
   "id": "c951ae16",
   "metadata": {},
   "source": [
    "# Model"
   ]
  },
  {
   "cell_type": "code",
   "execution_count": 5,
   "id": "e39edde9",
   "metadata": {},
   "outputs": [],
   "source": [
    "import torch.nn as nn\n",
    "from numpy import *\n",
    "\n",
    "def conv_block(in_s, out_s, pool = False):\n",
    "    layers = [nn.Conv2d(in_s, out_s, 3 ,padding=1),\n",
    "              nn.BatchNorm2d(out_s),\n",
    "              nn.ReLU()\n",
    "             ]\n",
    "    if (pool): layers.append( nn.MaxPool2d(2))\n",
    "        \n",
    "    return nn.Sequential(*layers)\n",
    "\n",
    "    \n",
    "class MyResNet(nn.Module):\n",
    "    def __init__(self,in_channels, out_classes,fiugure_size):\n",
    "        super().__init__()\n",
    "        self.fiugure_size = fiugure_size\n",
    "        self.con1 = conv_block(in_channels,64)  # 64*fiugure_size\n",
    "        self.con2 = conv_block(64,128, True)    # 128*16*16\n",
    "        self.res1 = nn.Sequential( conv_block(128,128), conv_block(128,128) )  # 128*16*16\n",
    "        \n",
    "        \n",
    "        self.con3 = conv_block(128,256 , True)   # 256*8*8 \n",
    "        self.con4 = conv_block(256,512 , True)   # 512*4*4\n",
    "        self.res2 = nn.Sequential( conv_block(512,512), conv_block(512,512) )  # 512*4*4 \n",
    "        \n",
    "        self.con5 = conv_block(512,64 , True)   # 512*8*8 \n",
    "        self.con6 = conv_block(64,64 , True)   # 512*4*4\n",
    "        self.res3 = nn.Sequential( conv_block(64,64), conv_block(64,64) )  # 32*4*4 \n",
    "        \n",
    "        \n",
    "        fiugure_size = fiugure_size//128\n",
    "        \n",
    "        \n",
    "        self.classifier = nn.Sequential(\n",
    "            nn.MaxPool2d(4),   # 512*1*1 \n",
    "            nn.Flatten(),\n",
    "            nn.Linear(64*fiugure_size[0] * fiugure_size[1], out_classes),\n",
    "        )\n",
    "        \n",
    "    def forward(self,x):\n",
    "        x = self.con1(x)\n",
    "        x = self.con2(x)\n",
    "        x = self.res1(x) + x\n",
    "        \n",
    "        x = self.con3(x)\n",
    "        x = self.con4(x)\n",
    "        x = self.res2(x) + x\n",
    "        \n",
    "        x = self.con5(x)\n",
    "        x = self.con6(x)\n",
    "        x = self.res3(x) + x\n",
    "        return self.classifier(x)"
   ]
  },
  {
   "cell_type": "code",
   "execution_count": 16,
   "id": "432b2870",
   "metadata": {},
   "outputs": [
    {
     "data": {
      "text/plain": [
       "128"
      ]
     },
     "execution_count": 16,
     "metadata": {},
     "output_type": "execute_result"
    }
   ],
   "source": [
    "2**7"
   ]
  },
  {
   "cell_type": "code",
   "execution_count": 6,
   "id": "077b5d8c",
   "metadata": {},
   "outputs": [],
   "source": [
    "model = nn.Sequential(\n",
    "#   RECORD_WIDTH  = 480\n",
    "#   RECORD_HEIGHT = 270\n",
    "    # 3 x 480 x 270\n",
    "    nn.Conv2d(3,32,kernel_size=3,stride=1,padding=1),  # 32 x 480 x 270\n",
    "    nn.ReLU(),\n",
    "    nn.Conv2d(32,64,kernel_size=3,stride=1,padding=1), # 64 x 480 x 270\n",
    "    nn.ReLU(),\n",
    "    nn.MaxPool2d(2,2), # 256 x 240 x 135\n",
    "    \n",
    "    nn.Conv2d(64,128,kernel_size=3,stride=1,padding=1), # 128 x 16 x 270\n",
    "    nn.ReLU(),\n",
    "    nn.Conv2d(128,128,kernel_size=3,stride=1,padding=1), # 128 x 16 x 270\n",
    "    nn.ReLU(),\n",
    "    nn.MaxPool2d(2,2), # 128 x 120 x 67\n",
    "    \n",
    "    nn.Conv2d(128,256,kernel_size=3,stride=1,padding=1), # 256 x 16 x 67\n",
    "    nn.ReLU(),\n",
    "    nn.Conv2d(256,256,kernel_size=3,stride=1,padding=1), # 256 x 16 x 67\n",
    "    nn.ReLU(),\n",
    "    nn.MaxPool2d(2,2), # 256 x 60 x 33\n",
    "    \n",
    "    nn.Conv2d(256,512,kernel_size=3,stride=1,padding=1), # 256 x 16 x 67\n",
    "    nn.ReLU(),\n",
    "    nn.Conv2d(512,512,kernel_size=3,stride=1,padding=1), # 256 x 16 x 67\n",
    "    nn.ReLU(),\n",
    "    nn.MaxPool2d(2,2), # 256 x 30 x 16\n",
    "    \n",
    "    nn.Conv2d(512,512,kernel_size=3,stride=1,padding=1), # 256 x 16 x 67\n",
    "    nn.ReLU(),\n",
    "    nn.Conv2d(512,512,kernel_size=3,stride=1,padding=1), # 256 x 16 x 67\n",
    "    nn.ReLU(),\n",
    "    nn.MaxPool2d(2,2), # 512 x 15 x 8\n",
    "    \n",
    "    nn.Conv2d(512,512,kernel_size=3,stride=1,padding=1), # 256 x 16 x 67\n",
    "    nn.ReLU(),\n",
    "    nn.Conv2d(512,512,kernel_size=3,stride=1,padding=1), # 256 x 16 x 67\n",
    "    nn.ReLU(),\n",
    "    nn.MaxPool2d(2,2), # 512 x 7 x 4\n",
    "    \n",
    "    nn.Conv2d(512,1024,kernel_size=3,stride=1,padding=1), # 256 x 16 x 67\n",
    "    nn.ReLU(),\n",
    "    nn.Conv2d(1024,1024,kernel_size=3,stride=1,padding=1), # 256 x 16 x 67\n",
    "    nn.ReLU(),\n",
    "    nn.MaxPool2d(2,2), # 1024 x 3 x 2\n",
    "    \n",
    "    nn.Conv2d(1024,1024,kernel_size=3,stride=1,padding=1), # 256 x 16 x 67\n",
    "    nn.ReLU(),\n",
    "    nn.Conv2d(1024,1024,kernel_size=3,stride=1,padding=1), # 256 x 16 x 67\n",
    "    nn.ReLU(),\n",
    "    nn.MaxPool2d(2,2), # 1024 x 3 x 2\n",
    "    \n",
    "    nn.Flatten(),\n",
    "    nn.Linear(1024, 1024), # 2048\n",
    "    nn.ReLU(),\n",
    "    nn.Linear(1024,512),\n",
    "    nn.ReLU(),\n",
    "    nn.Linear(512,6),\n",
    ").cuda()"
   ]
  },
  {
   "cell_type": "code",
   "execution_count": 56,
   "id": "b2d0b315",
   "metadata": {},
   "outputs": [],
   "source": [
    "# model = MyResNet(3,6, array([RECORD_HEIGHT, RECORD_WIDTH])).cuda()\n",
    "# model.load_state_dict(torch.load(\"models/Resnet.pth\"))"
   ]
  },
  {
   "cell_type": "code",
   "execution_count": 7,
   "id": "d0d6e398",
   "metadata": {},
   "outputs": [
    {
     "data": {
      "text/plain": [
       "Sequential(\n",
       "  (0): Conv2d(3, 32, kernel_size=(3, 3), stride=(1, 1), padding=(1, 1))\n",
       "  (1): ReLU()\n",
       "  (2): Conv2d(32, 64, kernel_size=(3, 3), stride=(1, 1), padding=(1, 1))\n",
       "  (3): ReLU()\n",
       "  (4): MaxPool2d(kernel_size=2, stride=2, padding=0, dilation=1, ceil_mode=False)\n",
       "  (5): Conv2d(64, 128, kernel_size=(3, 3), stride=(1, 1), padding=(1, 1))\n",
       "  (6): ReLU()\n",
       "  (7): Conv2d(128, 128, kernel_size=(3, 3), stride=(1, 1), padding=(1, 1))\n",
       "  (8): ReLU()\n",
       "  (9): MaxPool2d(kernel_size=2, stride=2, padding=0, dilation=1, ceil_mode=False)\n",
       "  (10): Conv2d(128, 256, kernel_size=(3, 3), stride=(1, 1), padding=(1, 1))\n",
       "  (11): ReLU()\n",
       "  (12): Conv2d(256, 256, kernel_size=(3, 3), stride=(1, 1), padding=(1, 1))\n",
       "  (13): ReLU()\n",
       "  (14): MaxPool2d(kernel_size=2, stride=2, padding=0, dilation=1, ceil_mode=False)\n",
       "  (15): Conv2d(256, 512, kernel_size=(3, 3), stride=(1, 1), padding=(1, 1))\n",
       "  (16): ReLU()\n",
       "  (17): Conv2d(512, 512, kernel_size=(3, 3), stride=(1, 1), padding=(1, 1))\n",
       "  (18): ReLU()\n",
       "  (19): MaxPool2d(kernel_size=2, stride=2, padding=0, dilation=1, ceil_mode=False)\n",
       "  (20): Conv2d(512, 512, kernel_size=(3, 3), stride=(1, 1), padding=(1, 1))\n",
       "  (21): ReLU()\n",
       "  (22): Conv2d(512, 512, kernel_size=(3, 3), stride=(1, 1), padding=(1, 1))\n",
       "  (23): ReLU()\n",
       "  (24): MaxPool2d(kernel_size=2, stride=2, padding=0, dilation=1, ceil_mode=False)\n",
       "  (25): Conv2d(512, 512, kernel_size=(3, 3), stride=(1, 1), padding=(1, 1))\n",
       "  (26): ReLU()\n",
       "  (27): Conv2d(512, 512, kernel_size=(3, 3), stride=(1, 1), padding=(1, 1))\n",
       "  (28): ReLU()\n",
       "  (29): MaxPool2d(kernel_size=2, stride=2, padding=0, dilation=1, ceil_mode=False)\n",
       "  (30): Conv2d(512, 1024, kernel_size=(3, 3), stride=(1, 1), padding=(1, 1))\n",
       "  (31): ReLU()\n",
       "  (32): Conv2d(1024, 1024, kernel_size=(3, 3), stride=(1, 1), padding=(1, 1))\n",
       "  (33): ReLU()\n",
       "  (34): MaxPool2d(kernel_size=2, stride=2, padding=0, dilation=1, ceil_mode=False)\n",
       "  (35): Conv2d(1024, 1024, kernel_size=(3, 3), stride=(1, 1), padding=(1, 1))\n",
       "  (36): ReLU()\n",
       "  (37): Conv2d(1024, 1024, kernel_size=(3, 3), stride=(1, 1), padding=(1, 1))\n",
       "  (38): ReLU()\n",
       "  (39): MaxPool2d(kernel_size=2, stride=2, padding=0, dilation=1, ceil_mode=False)\n",
       "  (40): Flatten(start_dim=1, end_dim=-1)\n",
       "  (41): Linear(in_features=1024, out_features=1024, bias=True)\n",
       "  (42): ReLU()\n",
       "  (43): Linear(in_features=1024, out_features=512, bias=True)\n",
       "  (44): ReLU()\n",
       "  (45): Linear(in_features=512, out_features=6, bias=True)\n",
       ")"
      ]
     },
     "execution_count": 7,
     "metadata": {},
     "output_type": "execute_result"
    }
   ],
   "source": [
    "model.eval()"
   ]
  },
  {
   "cell_type": "code",
   "execution_count": 18,
   "id": "d1071473",
   "metadata": {
    "scrolled": false
   },
   "outputs": [
    {
     "ename": "NameError",
     "evalue": "name 'my_dataloader' is not defined",
     "output_type": "error",
     "traceback": [
      "\u001b[1;31m---------------------------------------------------------------------------\u001b[0m",
      "\u001b[1;31mNameError\u001b[0m                                 Traceback (most recent call last)",
      "Cell \u001b[1;32mIn[18], line 1\u001b[0m\n\u001b[1;32m----> 1\u001b[0m \u001b[38;5;28;01mfor\u001b[39;00m img, lbl \u001b[38;5;129;01min\u001b[39;00m \u001b[43mmy_dataloader\u001b[49m:\n\u001b[0;32m      2\u001b[0m     \u001b[38;5;28mprint\u001b[39m(lbl)\n\u001b[0;32m      3\u001b[0m     \u001b[38;5;28;01mbreak\u001b[39;00m\n",
      "\u001b[1;31mNameError\u001b[0m: name 'my_dataloader' is not defined"
     ]
    }
   ],
   "source": [
    "for img, lbl in my_dataloader:\n",
    "    print(lbl)\n",
    "    break\n",
    "model(img.cuda()).shape"
   ]
  },
  {
   "cell_type": "markdown",
   "id": "1ae8c416",
   "metadata": {},
   "source": [
    "# Train it"
   ]
  },
  {
   "cell_type": "code",
   "execution_count": 8,
   "id": "f411eaf3",
   "metadata": {},
   "outputs": [],
   "source": [
    "import torch.optim as optim\n",
    "from tqdm.auto import tqdm\n",
    "from torch.utils.data import random_split\n"
   ]
  },
  {
   "cell_type": "code",
   "execution_count": 9,
   "id": "a2b0031d",
   "metadata": {},
   "outputs": [],
   "source": [
    "\n",
    "model_name = \"CONV50\"\n",
    "loss_fn    =  nn.CrossEntropyLoss()\n",
    "optimizer  =  optim.Adam(model.parameters(),lr=0.001)"
   ]
  },
  {
   "cell_type": "code",
   "execution_count": 10,
   "id": "240b35eb",
   "metadata": {},
   "outputs": [],
   "source": [
    "train_losses = []\n",
    "valid_losses = []\n",
    "acurracies   = []"
   ]
  },
  {
   "cell_type": "code",
   "execution_count": 11,
   "id": "fa16b2cd",
   "metadata": {
    "scrolled": true
   },
   "outputs": [
    {
     "name": "stdout",
     "output_type": "stream",
     "text": [
      "[*] Epoch:1  file:dataset\\train_data11.npy cut:0\n"
     ]
    },
    {
     "data": {
      "application/vnd.jupyter.widget-view+json": {
       "model_id": "5422f9cf048f4982804b8cccd414cbcc",
       "version_major": 2,
       "version_minor": 0
      },
      "text/plain": [
       "  0%|          | 0/450 [00:00<?, ?it/s]"
      ]
     },
     "metadata": {},
     "output_type": "display_data"
    },
    {
     "name": "stderr",
     "output_type": "stream",
     "text": [
      "D:\\python\\pytorch_transformer\\lib\\site-packages\\torch\\nn\\functional.py:718: UserWarning: Named tensors and all their associated APIs are an experimental feature and subject to change. Please do not use them for anything important until they are released as stable. (Triggered internally at  ..\\c10/core/TensorImpl.h:1156.)\n",
      "  return torch.max_pool2d(input, kernel_size, stride, padding, dilation, ceil_mode)\n"
     ]
    },
    {
     "name": "stdout",
     "output_type": "stream",
     "text": [
      "\t\t Loss:1.1949 valid Losss:1.1465 val acc:33.50%\n",
      "\n",
      "\n",
      "[*] Epoch:1  file:dataset\\train_data11.npy cut:1\n"
     ]
    },
    {
     "data": {
      "application/vnd.jupyter.widget-view+json": {
       "model_id": "2d275d6ab7e24189b016fed1ac121c58",
       "version_major": 2,
       "version_minor": 0
      },
      "text/plain": [
       "  0%|          | 0/475 [00:00<?, ?it/s]"
      ]
     },
     "metadata": {},
     "output_type": "display_data"
    },
    {
     "name": "stdout",
     "output_type": "stream",
     "text": [
      "\t\t Loss:1.1318 valid Losss:1.1987 val acc:32.86%\n",
      "\n",
      "\n",
      "[*] Epoch:1  file:dataset\\train_data12.npy cut:0\n"
     ]
    },
    {
     "data": {
      "application/vnd.jupyter.widget-view+json": {
       "model_id": "b6dec23dbd7b48c9aa02bfb32e24179e",
       "version_major": 2,
       "version_minor": 0
      },
      "text/plain": [
       "  0%|          | 0/461 [00:00<?, ?it/s]"
      ]
     },
     "metadata": {},
     "output_type": "display_data"
    },
    {
     "name": "stdout",
     "output_type": "stream",
     "text": [
      "\t\t Loss:1.0841 valid Losss:1.0612 val acc:49.51%\n",
      "\n",
      "\n",
      "[*] Epoch:1  file:dataset\\train_data12.npy cut:1\n"
     ]
    },
    {
     "data": {
      "application/vnd.jupyter.widget-view+json": {
       "model_id": "9cc4c561edef41c68baa86add895b1c7",
       "version_major": 2,
       "version_minor": 0
      },
      "text/plain": [
       "  0%|          | 0/502 [00:00<?, ?it/s]"
      ]
     },
     "metadata": {},
     "output_type": "display_data"
    },
    {
     "name": "stdout",
     "output_type": "stream",
     "text": [
      "\t\t Loss:1.1877 valid Losss:1.1812 val acc:39.46%\n",
      "\n",
      "\n",
      "[*] Epoch:1  file:dataset\\train_data13.npy cut:0\n"
     ]
    },
    {
     "data": {
      "application/vnd.jupyter.widget-view+json": {
       "model_id": "488232e936044b61ae5cdb261d342ed5",
       "version_major": 2,
       "version_minor": 0
      },
      "text/plain": [
       "  0%|          | 0/437 [00:00<?, ?it/s]"
      ]
     },
     "metadata": {},
     "output_type": "display_data"
    },
    {
     "name": "stdout",
     "output_type": "stream",
     "text": [
      "\t\t Loss:1.1099 valid Losss:1.1486 val acc:31.09%\n",
      "\n",
      "\n",
      "[*] Epoch:1  file:dataset\\train_data13.npy cut:1\n"
     ]
    },
    {
     "data": {
      "application/vnd.jupyter.widget-view+json": {
       "model_id": "fb834e23b151457fb8b79f882ce655a9",
       "version_major": 2,
       "version_minor": 0
      },
      "text/plain": [
       "  0%|          | 0/413 [00:00<?, ?it/s]"
      ]
     },
     "metadata": {},
     "output_type": "display_data"
    },
    {
     "name": "stdout",
     "output_type": "stream",
     "text": [
      "\t\t Loss:1.2640 valid Losss:1.2838 val acc:35.52%\n",
      "\n",
      "\n",
      "[*] Epoch:1  file:dataset\\train_data14.npy cut:0\n"
     ]
    },
    {
     "data": {
      "application/vnd.jupyter.widget-view+json": {
       "model_id": "89a31a834699474f9c9317d3f4ea6e3a",
       "version_major": 2,
       "version_minor": 0
      },
      "text/plain": [
       "  0%|          | 0/816 [00:00<?, ?it/s]"
      ]
     },
     "metadata": {},
     "output_type": "display_data"
    },
    {
     "name": "stdout",
     "output_type": "stream",
     "text": [
      "\t\t Loss:1.1742 valid Losss:1.2072 val acc:38.12%\n",
      "\n",
      "\n",
      "[*] Epoch:1  file:dataset\\train_data14.npy cut:1\n"
     ]
    },
    {
     "data": {
      "application/vnd.jupyter.widget-view+json": {
       "model_id": "95498c223781416fb8e1f308bcb23876",
       "version_major": 2,
       "version_minor": 0
      },
      "text/plain": [
       "  0%|          | 0/799 [00:00<?, ?it/s]"
      ]
     },
     "metadata": {},
     "output_type": "display_data"
    }
   ],
   "source": [
    "from time import time, sleep\n",
    "\n",
    "num_epoch = 1000\n",
    "start_time = time()\n",
    "for epoch in range(1,num_epoch+1):\n",
    "    \n",
    "    train_loss = 0.0\n",
    "    valid_loss = 0.0\n",
    "    \n",
    "    \n",
    "    \n",
    "    for num,each_file in enumerate(dataset_files[1:]):\n",
    "        ###################### load data\n",
    "        try:\n",
    "            read_file_dataset = load(each_file,allow_pickle=True)\n",
    "        except:\n",
    "            continue\n",
    "        half_len = len(read_file_dataset)//2\n",
    "        for cut_index in range(2):\n",
    "            print(f'[*] Epoch:{epoch}  file:{each_file} cut:{cut_index}')\n",
    "            \n",
    "            testd_torch_dataset = TensorDataset(\n",
    "                *append_flip_data(\n",
    "                    read_file_dataset[(cut_index)*half_len:(cut_index+1)*half_len]\n",
    "                )\n",
    "            )\n",
    "            val_size   = 0.1\n",
    "            val_size   = int(val_size * len(testd_torch_dataset))\n",
    "            train_size = len(testd_torch_dataset) - val_size\n",
    "            train_ds, val_ds = random_split(testd_torch_dataset,[train_size, val_size])\n",
    "\n",
    "            del testd_torch_dataset\n",
    "            train_dl = DataLoader(train_ds, batch_size,shuffle=True, num_workers=0,pin_memory=True)\n",
    "            del train_ds\n",
    "            val_dl   = DataLoader(val_ds  , batch_size,shuffle=True, num_workers=0,pin_memory=True)\n",
    "            del val_ds\n",
    "\n",
    "\n",
    "\n",
    "            ###################### train\n",
    "            model.train()\n",
    "            for img, lbl in tqdm(train_dl):\n",
    "                img = img.cuda()\n",
    "                lbl = lbl.cuda()\n",
    "                optimizer.zero_grad()\n",
    "                predict = model(img)\n",
    "                loss = loss_fn(predict,lbl)\n",
    "                loss.backward()\n",
    "                optimizer.step()\n",
    "\n",
    "                train_loss  +=  loss.item()*img.size(0)\n",
    "\n",
    "            ###################### val test\n",
    "            model.eval()\n",
    "            accuracy = 0.0\n",
    "            total = 0.0\n",
    "\n",
    "            for img, lbl in val_dl:\n",
    "                img = img.cuda()\n",
    "                lbl = lbl.cuda()\n",
    "\n",
    "                predict = model(img)\n",
    "                loss = loss_fn(predict,lbl)\n",
    "\n",
    "                valid_loss += loss.item()*img.size(0)\n",
    "\n",
    "\n",
    "                # calculate accuracy\n",
    "                _, predicted = torch.max(predict.data, 1)\n",
    "                total       += lbl.size(0)\n",
    "                accuracy    += (predicted == lbl).sum().item()\n",
    "\n",
    "            accuracy = (100 * accuracy / total)\n",
    "\n",
    "\n",
    "            train_loss = train_loss/len(train_dl.sampler) \n",
    "            valid_loss = valid_loss/len(val_dl.sampler)\n",
    "\n",
    "            del train_dl\n",
    "            del val_dl\n",
    "\n",
    "            train_losses.append(train_loss)\n",
    "            valid_losses.append(valid_loss)\n",
    "            acurracies.append(accuracy)\n",
    "\n",
    "            if (not os.path.isdir(\"models\")): os.mkdir(\"models\")\n",
    "            torch.save(model.state_dict(), f\"models/{model_name}_{epoch}.pth\")\n",
    "            np.save(\"losses.npy\",[train_losses,valid_losses,acurracies])\n",
    "            print('\\t\\t Loss:{:.4f} valid Losss:{:.4f} val acc:{:.2f}%\\n\\n'.format(\n",
    "                train_loss,valid_loss,accuracy\n",
    "            ))    \n",
    "total_time = time() - start_time\n",
    "print(f\"Spend {total_time}s\")"
   ]
  },
  {
   "cell_type": "markdown",
   "id": "30fa3247",
   "metadata": {},
   "source": [
    "# Show loss accuarcy"
   ]
  },
  {
   "cell_type": "markdown",
   "id": "75495e32",
   "metadata": {},
   "source": [
    "## Sow jupyter train"
   ]
  },
  {
   "cell_type": "code",
   "execution_count": 12,
   "id": "2c8409da",
   "metadata": {},
   "outputs": [],
   "source": [
    "%matplotlib inline\n",
    "fig, ax = subplots(1)\n",
    "this_x = range(1,len(train_losses)+1 )\n",
    "ax.plot(this_x, train_losses,\"x-\",label='train')\n",
    "ax.plot(this_x, valid_losses,\"x-\",label='valid')\n",
    "grid()\n",
    "xlabel(\"Epochs\")\n",
    "ylabel(\"Loss\")\n",
    "\n",
    "legend()"
   ]
  },
  {
   "cell_type": "code",
   "execution_count": 15,
   "id": "2604eaba",
   "metadata": {},
   "outputs": [
    {
     "data": {
      "text/plain": [
       "<matplotlib.legend.Legend at 0x1371f4b4be0>"
      ]
     },
     "execution_count": 15,
     "metadata": {},
     "output_type": "execute_result"
    },
    {
     "data": {
      "image/png": "[encoded data removed]",
      "text/plain": [
       "<Figure size 640x480 with 1 Axes>"
      ]
     },
     "metadata": {},
     "output_type": "display_data"
    }
   ],
   "source": [
    "%matplotlib inline\n",
    "fig, ax = subplots(1)\n",
    "this_x = range(1,len(acurracies)+1 )\n",
    "ax.plot(this_x, acurracies,\"x-\",label='acurracy')\n",
    "grid()\n",
    "xlabel(\"Epochs\")\n",
    "ylabel(\"acurracy (%)\")\n",
    "\n",
    "legend()"
   ]
  },
  {
   "cell_type": "code",
   "execution_count": 36,
   "id": "f81baa52",
   "metadata": {},
   "outputs": [],
   "source": [
    "if (not os.path.isdir(\"models\")): os.mkdir(\"models\")\n",
    "torch.save(model.state_dict(), f\"models/{model_name}.pth\")"
   ]
  },
  {
   "cell_type": "code",
   "execution_count": 26,
   "id": "6c548fa8",
   "metadata": {
    "scrolled": true
   },
   "outputs": [
    {
     "data": {
      "text/plain": [
       "3"
      ]
     },
     "execution_count": 26,
     "metadata": {},
     "output_type": "execute_result"
    }
   ],
   "source": [
    "torch.argmax( torch.tensor([1,2,3,4])).item()"
   ]
  },
  {
   "cell_type": "code",
   "execution_count": 17,
   "id": "6fe84081",
   "metadata": {},
   "outputs": [
    {
     "name": "stdout",
     "output_type": "stream",
     "text": [
      "hi"
     ]
    }
   ],
   "source": [
    "print('hi',end=\"\")"
   ]
  },
  {
   "cell_type": "code",
   "execution_count": 16,
   "id": "2bc95d0d",
   "metadata": {},
   "outputs": [],
   "source": [
    "np.save(\"losses.npy\",[train_losses,valid_losses])"
   ]
  },
  {
   "cell_type": "code",
   "execution_count": 59,
   "id": "b826f2c3",
   "metadata": {},
   "outputs": [
    {
     "data": {
      "text/plain": [
       "['mnasnet_losses.npy', 'Resnet12_losses.npy']"
      ]
     },
     "execution_count": 59,
     "metadata": {},
     "output_type": "execute_result"
    }
   ],
   "source": [
    "os.listdir(\"logs\")"
   ]
  },
  {
   "cell_type": "markdown",
   "id": "062d1805",
   "metadata": {},
   "source": [
    "## Show per file"
   ]
  },
  {
   "cell_type": "code",
   "execution_count": 84,
   "id": "631db57a",
   "metadata": {},
   "outputs": [],
   "source": [
    "\n",
    "train_losses,valid_losses,acurracies = np.load('logs/mnasnet_losses.npy',allow_pickle=True)"
   ]
  },
  {
   "cell_type": "code",
   "execution_count": 85,
   "id": "6b808f2d",
   "metadata": {},
   "outputs": [
    {
     "data": {
      "text/plain": [
       "<matplotlib.legend.Legend at 0x26e585aa8b0>"
      ]
     },
     "execution_count": 85,
     "metadata": {},
     "output_type": "execute_result"
    },
    {
     "data": {
      "image/png": "[encoded data removed]",
      "text/plain": [
       "<Figure size 640x480 with 1 Axes>"
      ]
     },
     "metadata": {},
     "output_type": "display_data"
    }
   ],
   "source": [
    "%matplotlib inline\n",
    "fig, ax = subplots(1)\n",
    "this_x = range(1,len(train_losses)+1 )\n",
    "ax.plot(this_x, train_losses,\"x-\",label='train')\n",
    "ax.plot(this_x, valid_losses,\"x-\",label='valid')\n",
    "grid()\n",
    "xlabel(\"Epochs\")\n",
    "ylabel(\"Loss\")\n",
    "\n",
    "legend()"
   ]
  },
  {
   "cell_type": "code",
   "execution_count": 86,
   "id": "e9d2facd",
   "metadata": {},
   "outputs": [
    {
     "data": {
      "text/plain": [
       "<matplotlib.legend.Legend at 0x26e586ebc70>"
      ]
     },
     "execution_count": 86,
     "metadata": {},
     "output_type": "execute_result"
    },
    {
     "data": {
      "image/png": "[encoded data removed]",
      "text/plain": [
       "<Figure size 640x480 with 1 Axes>"
      ]
     },
     "metadata": {},
     "output_type": "display_data"
    }
   ],
   "source": [
    "%matplotlib inline\n",
    "fig, ax = subplots(1)\n",
    "this_x = range(1,len(acurracies)+1 )\n",
    "ax.plot(this_x, acurracies,\"x-\",label='acurracy')\n",
    "grid()\n",
    "xlabel(\"Epochs\")\n",
    "ylabel(\"acurracy (%)\")\n",
    "\n",
    "legend()"
   ]
  },
  {
   "cell_type": "markdown",
   "id": "e78e8060",
   "metadata": {},
   "source": [
    "# Show all models"
   ]
  },
  {
   "cell_type": "code",
   "execution_count": 123,
   "id": "f5e5a00e",
   "metadata": {},
   "outputs": [
    {
     "name": "stdout",
     "output_type": "stream",
     "text": [
      "1 mnasnet_losses\n",
      "2 Resnet12_losses\n",
      "3 wide_resnet101_2_losses\n"
     ]
    }
   ],
   "source": [
    "%matplotlib qt\n",
    "all_files = glob.glob('logs/*.npy')\n",
    "fig, ax = subplots(3)\n",
    "ax[0].set_title('Train losse')\n",
    "ax[1].set_title('Valid losse')\n",
    "ax[2].set_title('Acurracy')\n",
    "\n",
    "ax[0].set_ylabel('loss')\n",
    "ax[1].set_ylabel('loss')\n",
    "ax[2].set_ylabel('%')\n",
    "ax[2].set_xlabel('Train step')\n",
    "\n",
    "for num, each_log in enumerate(all_files):\n",
    "    MODEl_NAME = os.path.basename(each_log)[:-4]\n",
    "    print(num+1,MODEl_NAME)\n",
    "    datas = np.load(each_log,allow_pickle=True)\n",
    "    \n",
    "    \n",
    "    \n",
    "    for index,each_data in enumerate(datas):\n",
    "        this_x = range(1,len(each_data)+1 )\n",
    "        \n",
    "        ax[index].plot(this_x, each_data, \"-\",label=MODEl_NAME)\n",
    "        ax[index].grid()\n",
    "        ax[index].legend(fontsize=7)\n",
    "fig.autofmt_xdate()\n",
    "fig.tight_layout()\n"
   ]
  },
  {
   "cell_type": "markdown",
   "id": "807efd33",
   "metadata": {},
   "source": [
    "# Show all model's log with a filter"
   ]
  },
  {
   "cell_type": "code",
   "execution_count": 158,
   "id": "0c053502",
   "metadata": {},
   "outputs": [],
   "source": [
    "from scipy.signal import savgol_filter as sgfilter"
   ]
  },
  {
   "cell_type": "code",
   "execution_count": 159,
   "id": "564f2ad2",
   "metadata": {},
   "outputs": [],
   "source": [
    "colors = ['#1f77b4', '#ff7f0e', '#2ca02c', '#d62728', '#9467bd', '#8c564b', '#e377c2', '#7f7f7f', '#bcbd22', '#17becf']"
   ]
  },
  {
   "cell_type": "code",
   "execution_count": 160,
   "id": "fdd0c7ed",
   "metadata": {},
   "outputs": [
    {
     "name": "stdout",
     "output_type": "stream",
     "text": [
      "1 mnasnet_losses\n",
      "2 Resnet12_losses\n",
      "3 wide_resnet101_2_losses\n"
     ]
    }
   ],
   "source": [
    "%matplotlib qt\n",
    "all_files = glob.glob('logs/*.npy')\n",
    "fig, ax = subplots(3)\n",
    "ax[0].set_title('Train losse')\n",
    "ax[1].set_title('Valid losse')\n",
    "ax[2].set_title('Acurracy')\n",
    "\n",
    "ax[1].set_ylim(0,1)\n",
    "\n",
    "\n",
    "ax[0].set_ylabel('loss')\n",
    "ax[1].set_ylabel('loss')\n",
    "ax[2].set_ylabel('%')\n",
    "ax[2].set_xlabel('Train step')\n",
    "\n",
    "for num, each_log in enumerate(all_files):\n",
    "    MODEl_NAME = os.path.basename(each_log)[:-4]\n",
    "    print(num+1,MODEl_NAME)\n",
    "    \n",
    "    \n",
    "    datas = np.load(each_log,allow_pickle=True)\n",
    "    \n",
    "    \n",
    "    \n",
    "    for index,each_data in enumerate(datas):\n",
    "        this_x = range(1,len(each_data)+1 )\n",
    "        \n",
    "        ax[index].plot(this_x, sgfilter(each_data,51,2) ,\"-\" , color=colors[num] ,label=MODEl_NAME )\n",
    "        ax[index].plot(this_x, each_data                ,\"-\" ,alpha = 0.2, color=colors[num])\n",
    "        ax[index].grid()\n",
    "        ax[index].legend(fontsize=8)\n",
    "fig.autofmt_xdate()\n",
    "fig.tight_layout()\n"
   ]
  },
  {
   "cell_type": "code",
   "execution_count": 161,
   "id": "989b2005",
   "metadata": {},
   "outputs": [],
   "source": [
    "import numpy as np"
   ]
  },
  {
   "cell_type": "code",
   "execution_count": null,
   "id": "a21831c9",
   "metadata": {},
   "outputs": [],
   "source": [
    "\n",
    "np."
   ]
  },
  {
   "cell_type": "markdown",
   "id": "3ce781fb",
   "metadata": {},
   "source": [
    "# Find road line"
   ]
  },
  {
   "cell_type": "code",
   "execution_count": 167,
   "id": "19cea83e",
   "metadata": {},
   "outputs": [],
   "source": [
    "import cv2"
   ]
  },
  {
   "cell_type": "code",
   "execution_count": 162,
   "id": "61ab60eb",
   "metadata": {},
   "outputs": [],
   "source": [
    "testing_dataset = load('dataset\\\\train_data13.npy',allow_pickle=True)"
   ]
  },
  {
   "cell_type": "code",
   "execution_count": 165,
   "id": "f23a611c",
   "metadata": {},
   "outputs": [],
   "source": [
    "img, lbl = testing_dataset[100]"
   ]
  },
  {
   "cell_type": "code",
   "execution_count": 166,
   "id": "c37276fe",
   "metadata": {},
   "outputs": [
    {
     "data": {
      "text/plain": [
       "<matplotlib.image.AxesImage at 0x26e621ce820>"
      ]
     },
     "execution_count": 166,
     "metadata": {},
     "output_type": "execute_result"
    }
   ],
   "source": [
    "imshow(img)"
   ]
  },
  {
   "cell_type": "code",
   "execution_count": 169,
   "id": "fd8ed0d4",
   "metadata": {},
   "outputs": [],
   "source": [
    "cv2.imshow('fig',img)"
   ]
  },
  {
   "cell_type": "code",
   "execution_count": 178,
   "id": "1d6ad5e4",
   "metadata": {},
   "outputs": [],
   "source": [
    "gray = cv2.cvtColor(img, cv2.COLOR_RGB2GRAY)"
   ]
  },
  {
   "cell_type": "code",
   "execution_count": null,
   "id": "4f52c889",
   "metadata": {},
   "outputs": [],
   "source": [
    "kernel_size = 5\n",
    "blur_gray = cv2.GaussianBlur(gray,( kernel_size,kernel_size),0)\n",
    "\n",
    "low_threshold = 50\n",
    "high_threshold = 150\n",
    "masked_edges = cv2.Canny(blur_gray,low_threshold,high_threshold)\n",
    "cv2.imshow('masked_edges',masked_edges)\n",
    "cv2.imshow('blur_gray',blur_gray)"
   ]
  },
  {
   "cell_type": "code",
   "execution_count": 288,
   "id": "41feb36d",
   "metadata": {},
   "outputs": [
    {
     "data": {
      "text/plain": [
       "(270, 480)"
      ]
     },
     "execution_count": 288,
     "metadata": {},
     "output_type": "execute_result"
    }
   ],
   "source": [
    "masked_edges.shape"
   ]
  },
  {
   "cell_type": "code",
   "execution_count": 316,
   "id": "853e17f1",
   "metadata": {},
   "outputs": [],
   "source": [
    "height = masked_edges.shape[0]\n",
    "width  = masked_edges.shape[1]\n",
    "polygons = np.array([\n",
    "[ (0,100), \n",
    " (width,100),\n",
    " (width,height),\n",
    "]\n",
    "])\n"
   ]
  },
  {
   "cell_type": "code",
   "execution_count": 317,
   "id": "5c18bfe1",
   "metadata": {},
   "outputs": [],
   "source": [
    "mask = np.zeros_like(masked_edges)\n",
    "cv2.fillPoly(mask,polygons,255) \n",
    "segment = cv2.bitwise_and(masked_edges,mask) \n",
    "cv2.imshow('segment',segment)"
   ]
  },
  {
   "cell_type": "code",
   "execution_count": 269,
   "id": "285f6a03",
   "metadata": {},
   "outputs": [],
   "source": [
    "rho = 1\n",
    "theta = np.pi/180\n",
    "threshold = 3\n",
    "min_line_length = 40\n",
    "max_line_gap = 1\n",
    "lines        = cv2.HoughLinesP(masked_edges,rho,theta,threshold,np.array([]),min_line_length,max_line_gap)"
   ]
  },
  {
   "cell_type": "code",
   "execution_count": 270,
   "id": "75b15f05",
   "metadata": {},
   "outputs": [],
   "source": [
    "line_image = np.copy(img)*0 \n",
    "for x1,y1,x2,y2 in lines[0]:\n",
    "    cv2.line(line_image,(x1,y1),(x2,y2),(255,0,0),10)"
   ]
  },
  {
   "cell_type": "code",
   "execution_count": 271,
   "id": "b05dcf70",
   "metadata": {},
   "outputs": [],
   "source": [
    "color_edges=np.dstack((masked_edges,masked_edges,masked_edges))"
   ]
  },
  {
   "cell_type": "code",
   "execution_count": 272,
   "id": "10188d38",
   "metadata": {},
   "outputs": [],
   "source": [
    "combo = cv2.addWeighted(color_edges, 0.8, line_image, 1, 0) \n",
    "cv2.imshow('combo',combo)"
   ]
  },
  {
   "cell_type": "code",
   "execution_count": null,
   "id": "8895952d",
   "metadata": {},
   "outputs": [],
   "source": []
  },
  {
   "cell_type": "code",
   "execution_count": null,
   "id": "afe055ec",
   "metadata": {},
   "outputs": [],
   "source": []
  }
 ],
 "metadata": {
  "kernelspec": {
   "display_name": "Python 3 (ipykernel)",
   "language": "python",
   "name": "python3"
  },
  "language_info": {
   "codemirror_mode": {
    "name": "ipython",
    "version": 3
   },
   "file_extension": ".py",
   "mimetype": "text/x-python",
   "name": "python",
   "nbconvert_exporter": "python",
   "pygments_lexer": "ipython3",
   "version": "3.9.13"
  },
  "toc": {
   "base_numbering": 1,
   "nav_menu": {},
   "number_sections": true,
   "sideBar": true,
   "skip_h1_title": false,
   "title_cell": "Table of Contents",
   "title_sidebar": "Contents",
   "toc_cell": false,
   "toc_position": {
    "height": "calc(100% - 180px)",
    "left": "10px",
    "top": "150px",
    "width": "384px"
   },
   "toc_section_display": true,
   "toc_window_display": true
  }
 },
 "nbformat": 4,
 "nbformat_minor": 5
}
